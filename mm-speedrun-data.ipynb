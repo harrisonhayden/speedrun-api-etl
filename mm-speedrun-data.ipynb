{
 "cells": [
  {
   "cell_type": "code",
   "execution_count": 18,
   "metadata": {},
   "outputs": [],
   "source": [
    "import requests\n",
    "import json\n",
    "import pandas as pd\n",
    "\n",
    "HOST = 'https://www.speedrun.com/api/v1/'"
   ]
  },
  {
   "cell_type": "code",
   "execution_count": 66,
   "metadata": {},
   "outputs": [
    {
     "data": {
      "text/plain": [
       "'268zey6p'"
      ]
     },
     "execution_count": 66,
     "metadata": {},
     "output_type": "execute_result"
    }
   ],
   "source": [
    "# get game id for majora's mask\n",
    "\n",
    "games = requests.get('https://www.speedrun.com/api/v1/games?abbreviation=mm').text\n",
    "game_dict = json.loads(games)['data'][0]\n",
    "\n",
    "game_id = game_dict['id']\n",
    "game_id"
   ]
  },
  {
   "cell_type": "code",
   "execution_count": null,
   "metadata": {},
   "outputs": [],
   "source": [
    "# TEST BLOCK ADDED 1/25\n",
    "game = requests.get(HOST + 'runs' + '?embed=players')\n",
    "game.json()\n"
   ]
  },
  {
   "cell_type": "code",
   "execution_count": 51,
   "metadata": {},
   "outputs": [
    {
     "data": {
      "text/plain": [
       "'Nooya'"
      ]
     },
     "execution_count": 51,
     "metadata": {},
     "output_type": "execute_result"
    }
   ],
   "source": [
    "# get all runs done for mm (max 200 at a time)\n",
    "\n",
    "runs = requests.get('https://www.speedrun.com/api/v1/runs?max=200&embed=players&game=' + game_id).text\n",
    "runs_dict1 = json.loads(runs)\n",
    "runs_list = json.loads(runs)['data']\n",
    "runs_dict1['pagination']['size'] # max elements\n",
    "\n",
    "# new way of getting player id from run 2 (or any run) WHILE getting run\n",
    "runs_dict1['data'][2]['players']['data'][0]['names']['international']\n",
    "\n",
    "# get name of player without an account\n",
    "runs_dict1['data'][12]['players']['data'][0]['name']"
   ]
  },
  {
   "cell_type": "code",
   "execution_count": 69,
   "metadata": {},
   "outputs": [],
   "source": [
    "# Successfull functions for first version\n",
    "\n",
    "def make_list():\n",
    "  full_list = []\n",
    "  offset = 0\n",
    "  runs = requests.get('https://www.speedrun.com/api/v1/runs?max=200&embed=players&game=' + game_id).text\n",
    "  dict = json.loads(runs)\n",
    "\n",
    "  while dict['pagination']['size'] == 200:\n",
    "    runs = requests.get('https://www.speedrun.com/api/v1/runs?max=200&embed=players&game=' + game_id + '&offset=' + str(offset)).text\n",
    "    dict = json.loads(runs)\n",
    "    full_list.extend(dict['data'])\n",
    "    offset += 200\n",
    "\n",
    "  return full_list\n",
    "\n",
    "\n",
    "def add_time():\n",
    "  runs = make_list()\n",
    "  player_times = {}\n",
    "\n",
    "  for i in range(len(runs)):\n",
    "    if runs[i]['players']['data'][0].get('names'):\n",
    "      player = runs[i]['players']['data'][0]['names']['international']\n",
    "    else:\n",
    "      player = runs[i]['players']['data'][0]['name']\n",
    "\n",
    "\n",
    "    time = runs[i]['times']['primary_t']\n",
    "\n",
    "    if player in player_times:\n",
    "      player_times[player] += time\n",
    "    else:\n",
    "      player_times[player] = time\n",
    "\n",
    "  return player_times\n"
   ]
  },
  {
   "cell_type": "code",
   "execution_count": 87,
   "metadata": {},
   "outputs": [],
   "source": [
    "\n",
    "def convert2(seconds):\n",
    "  m, s = divmod(seconds, 60)\n",
    "  h, m = divmod(m, 60)\n",
    "\n",
    "  return str(int(h)) + ':' + str(int(m)) + ':' + str(int(s))"
   ]
  },
  {
   "cell_type": "code",
   "execution_count": null,
   "metadata": {},
   "outputs": [],
   "source": [
    "final_data = add_time()\n",
    "df = pd.DataFrame.from_dict({'Username':final_data.keys(), 'Total Time':final_data.values()})\n",
    "df.sort_values(by=['Total Time'], ascending=False, inplace=True)\n",
    "df['Total Time'] = df['Total Time'].apply(convert2)\n",
    "df.reset_index(inplace=True, drop=True)\n",
    "df"
   ]
  },
  {
   "cell_type": "markdown",
   "metadata": {},
   "source": [
    "# Part 2: Generalizing to Grab Many Zelda Games"
   ]
  },
  {
   "cell_type": "code",
   "execution_count": 163,
   "metadata": {},
   "outputs": [],
   "source": [
    "acronyms = ['mm', 'oot', 'tww', 'tp', 'alttp']\n",
    "zelda = requests.get(HOST + 'games?name=zelda&max=100')\n",
    "zelda_dict = zelda.json()['data']\n",
    "\n",
    "# view all zelda games\n",
    "zelda_games = []\n",
    "for i in range (len(zelda_dict)):\n",
    "    zelda_games.append(zelda_dict[i]['names']['international'])"
   ]
  },
  {
   "cell_type": "code",
   "execution_count": 181,
   "metadata": {},
   "outputs": [],
   "source": [
    "GAME_SERIES = 'zelda'\n",
    "\n",
    "def get_games(GAME_SERIES):\n",
    "    id_map = {}\n",
    "    request = requests.get(HOST + 'games?max=100&name=' + GAME_SERIES)\n",
    "    zelda_list = request.json()['data']\n",
    "\n",
    "    for i in range (len(zelda_list)):\n",
    "        id_map[zelda_list[i]['id']] = zelda_list[i]['names']['international']\n",
    "\n",
    "    return id_map\n",
    "\n",
    "id_to_game = get_games(GAME_SERIES)"
   ]
  },
  {
   "cell_type": "code",
   "execution_count": 182,
   "metadata": {},
   "outputs": [],
   "source": [
    "def new_make_list(game_id):\n",
    "    full_list = []\n",
    "    offset = 0\n",
    "    runs = requests.get('https://www.speedrun.com/api/v1/runs?max=200&embed=players&game=' + game_id).text\n",
    "    dict = json.loads(runs)\n",
    "\n",
    "    while dict['pagination']['size'] == 200:\n",
    "        runs = requests.get('https://www.speedrun.com/api/v1/runs?max=200&embed=players&game=' + game_id + '&offset=' + str(offset)).text\n",
    "        dict = json.loads(runs)\n",
    "        full_list.extend(dict['data'])\n",
    "        offset += 200\n",
    "\n",
    "    return full_list\n",
    "\n",
    "# new method, make new list entry for each person, time, and game\n",
    "# at the very end, sum time grouped by person and game\n",
    "def add_runs(game_id):\n",
    "    game_id = '268zey6p'\n",
    "    runs = new_make_list(game_id)\n",
    "    usernames = []\n",
    "    times = []\n",
    "    games = []\n",
    "\n",
    "\n",
    "    for i in range(len(runs)):\n",
    "        if runs[i]['players']['data'][0].get('names'):\n",
    "            usernames.append(runs[i]['players']['data'][0]['names']['international'])\n",
    "        else:\n",
    "            usernames.append(runs[i]['players']['data'][0]['name'])\n",
    "\n",
    "        times.append(runs[i]['times']['primary_t'])\n",
    "        games.append(id_to_game[game_id])\n",
    "\n",
    "    player_times = {\n",
    "        'username' : usernames,\n",
    "        'time' : times,\n",
    "        'game' : games,\n",
    "    }\n",
    "\n",
    "    return player_times"
   ]
  },
  {
   "cell_type": "code",
   "execution_count": 218,
   "metadata": {},
   "outputs": [
    {
     "data": {
      "text/html": [
       "<div>\n",
       "<style scoped>\n",
       "    .dataframe tbody tr th:only-of-type {\n",
       "        vertical-align: middle;\n",
       "    }\n",
       "\n",
       "    .dataframe tbody tr th {\n",
       "        vertical-align: top;\n",
       "    }\n",
       "\n",
       "    .dataframe thead th {\n",
       "        text-align: right;\n",
       "    }\n",
       "</style>\n",
       "<table border=\"1\" class=\"dataframe\">\n",
       "  <thead>\n",
       "    <tr style=\"text-align: right;\">\n",
       "      <th></th>\n",
       "      <th>username</th>\n",
       "      <th>game</th>\n",
       "      <th>time</th>\n",
       "    </tr>\n",
       "  </thead>\n",
       "  <tbody>\n",
       "    <tr>\n",
       "      <th>0</th>\n",
       "      <td>TrevPerson</td>\n",
       "      <td>The Legend of Zelda: Majora's Mask</td>\n",
       "      <td>1270513.00</td>\n",
       "    </tr>\n",
       "    <tr>\n",
       "      <th>1</th>\n",
       "      <td>fullgrowngaming</td>\n",
       "      <td>The Legend of Zelda: Majora's Mask</td>\n",
       "      <td>976611.00</td>\n",
       "    </tr>\n",
       "    <tr>\n",
       "      <th>2</th>\n",
       "      <td>dopeZera</td>\n",
       "      <td>The Legend of Zelda: Majora's Mask</td>\n",
       "      <td>700351.00</td>\n",
       "    </tr>\n",
       "    <tr>\n",
       "      <th>3</th>\n",
       "      <td>popesquidward</td>\n",
       "      <td>The Legend of Zelda: Majora's Mask</td>\n",
       "      <td>553996.81</td>\n",
       "    </tr>\n",
       "    <tr>\n",
       "      <th>4</th>\n",
       "      <td>EnNopp112</td>\n",
       "      <td>The Legend of Zelda: Majora's Mask</td>\n",
       "      <td>551924.47</td>\n",
       "    </tr>\n",
       "    <tr>\n",
       "      <th>...</th>\n",
       "      <td>...</td>\n",
       "      <td>...</td>\n",
       "      <td>...</td>\n",
       "    </tr>\n",
       "    <tr>\n",
       "      <th>480</th>\n",
       "      <td>kemXtrm</td>\n",
       "      <td>The Legend of Zelda: Majora's Mask</td>\n",
       "      <td>1780.00</td>\n",
       "    </tr>\n",
       "    <tr>\n",
       "      <th>481</th>\n",
       "      <td>BetoKos</td>\n",
       "      <td>The Legend of Zelda: Majora's Mask</td>\n",
       "      <td>1595.00</td>\n",
       "    </tr>\n",
       "    <tr>\n",
       "      <th>482</th>\n",
       "      <td>Marthur</td>\n",
       "      <td>The Legend of Zelda: Majora's Mask</td>\n",
       "      <td>759.00</td>\n",
       "    </tr>\n",
       "    <tr>\n",
       "      <th>483</th>\n",
       "      <td>Perzyk</td>\n",
       "      <td>The Legend of Zelda: Majora's Mask</td>\n",
       "      <td>133.00</td>\n",
       "    </tr>\n",
       "    <tr>\n",
       "      <th>484</th>\n",
       "      <td>agdf_ydy</td>\n",
       "      <td>The Legend of Zelda: Majora's Mask</td>\n",
       "      <td>102.00</td>\n",
       "    </tr>\n",
       "  </tbody>\n",
       "</table>\n",
       "<p>485 rows × 3 columns</p>\n",
       "</div>"
      ],
      "text/plain": [
       "            username                                game        time\n",
       "0         TrevPerson  The Legend of Zelda: Majora's Mask  1270513.00\n",
       "1    fullgrowngaming  The Legend of Zelda: Majora's Mask   976611.00\n",
       "2           dopeZera  The Legend of Zelda: Majora's Mask   700351.00\n",
       "3      popesquidward  The Legend of Zelda: Majora's Mask   553996.81\n",
       "4          EnNopp112  The Legend of Zelda: Majora's Mask   551924.47\n",
       "..               ...                                 ...         ...\n",
       "480          kemXtrm  The Legend of Zelda: Majora's Mask     1780.00\n",
       "481          BetoKos  The Legend of Zelda: Majora's Mask     1595.00\n",
       "482          Marthur  The Legend of Zelda: Majora's Mask      759.00\n",
       "483           Perzyk  The Legend of Zelda: Majora's Mask      133.00\n",
       "484         agdf_ydy  The Legend of Zelda: Majora's Mask      102.00\n",
       "\n",
       "[485 rows x 3 columns]"
      ]
     },
     "execution_count": 218,
     "metadata": {},
     "output_type": "execute_result"
    }
   ],
   "source": [
    "# steps for transforming dict into final df\n",
    "df = pd.DataFrame(add_runs('stuff'), columns = ['username', 'time', 'game'])\n",
    "df = df.groupby(['username', 'game'], as_index=False).sum()\n",
    "df.sort_values(by=['time'], ascending=False, inplace=True)\n",
    "df.reset_index(drop=True, inplace=True)\n",
    "df"
   ]
  },
  {
   "cell_type": "code",
   "execution_count": null,
   "metadata": {},
   "outputs": [],
   "source": []
  }
 ],
 "metadata": {
  "interpreter": {
   "hash": "71fdff05b81c8e1edf83c38635acb8fe674a3f8cdb8522ca6c810a60cf757fde"
  },
  "kernelspec": {
   "display_name": "Python 3.9.2 64-bit",
   "language": "python",
   "name": "python3"
  },
  "language_info": {
   "codemirror_mode": {
    "name": "ipython",
    "version": 3
   },
   "file_extension": ".py",
   "mimetype": "text/x-python",
   "name": "python",
   "nbconvert_exporter": "python",
   "pygments_lexer": "ipython3",
   "version": "3.9.2"
  },
  "orig_nbformat": 4
 },
 "nbformat": 4,
 "nbformat_minor": 2
}
