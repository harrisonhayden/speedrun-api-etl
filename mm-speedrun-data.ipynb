{
 "cells": [
  {
   "cell_type": "code",
   "execution_count": 1,
   "metadata": {},
   "outputs": [],
   "source": [
    "import requests\n",
    "import json\n",
    "import pandas as pd"
   ]
  },
  {
   "cell_type": "code",
   "execution_count": 2,
   "metadata": {},
   "outputs": [
    {
     "data": {
      "text/plain": [
       "'268zey6p'"
      ]
     },
     "execution_count": 2,
     "metadata": {},
     "output_type": "execute_result"
    }
   ],
   "source": [
    "# get game id for majora's mask\n",
    "\n",
    "games = requests.get('https://www.speedrun.com/api/v1/games?abbreviation=mm').text\n",
    "game_dict = json.loads(games)['data'][0]\n",
    "\n",
    "game_id = game_dict['id']\n",
    "game_id"
   ]
  },
  {
   "cell_type": "code",
   "execution_count": 21,
   "metadata": {},
   "outputs": [
    {
     "data": {
      "text/plain": [
       "200"
      ]
     },
     "execution_count": 21,
     "metadata": {},
     "output_type": "execute_result"
    }
   ],
   "source": [
    "# get all runs done for mm (max 200 at a time)\n",
    "\n",
    "runs = requests.get('https://www.speedrun.com/api/v1/runs?max=200&game=' + game_id).text\n",
    "runs_dict1 = json.loads(runs)\n",
    "runs_list = json.loads(runs)['data']\n",
    "runs_dict1['pagination']['size'] # max elements\n",
    "\n"
   ]
  },
  {
   "cell_type": "code",
   "execution_count": 22,
   "metadata": {},
   "outputs": [
    {
     "data": {
      "text/plain": [
       "200"
      ]
     },
     "execution_count": 22,
     "metadata": {},
     "output_type": "execute_result"
    }
   ],
   "source": [
    "# next course of action:\n",
    "# loop through each run (dict)\n",
    "# get the run's player id and primary_t (time) add add to dictionary 'id':'time'\n",
    "\n",
    "# how to get player id of run at list index 0\n",
    "runs_list[0]['players'][0]['id']\n",
    "\n",
    "# how to get time of run 0\n",
    "runs_list[0]['times']['primary_t']\n",
    "\n",
    "len(runs_list)"
   ]
  },
  {
   "cell_type": "code",
   "execution_count": 23,
   "metadata": {},
   "outputs": [],
   "source": [
    "# create a function which loops through a page (200 runs) then adds those runs\n",
    "# to a larger list and continues until all runs are in the massive list\n",
    "\n",
    "def make_list():\n",
    "  full_list = []\n",
    "  offset = 0\n",
    "  runs = requests.get('https://www.speedrun.com/api/v1/runs?max=200&game=' + game_id).text\n",
    "  dict = json.loads(runs)\n",
    "\n",
    "  while dict['pagination']['size'] == 200:\n",
    "    runs = requests.get('https://www.speedrun.com/api/v1/runs?max=200&game=' + game_id + '&offset=' + str(offset)).text\n",
    "    dict = json.loads(runs)\n",
    "    full_list.extend(dict['data'])\n",
    "    offset += 200\n",
    "\n",
    "  return full_list"
   ]
  },
  {
   "cell_type": "code",
   "execution_count": 24,
   "metadata": {},
   "outputs": [],
   "source": [
    "# create a method that converts an id to a username\n",
    "\n",
    "def id_to_username(id):\n",
    "  user_info = json.loads(requests.get('https://www.speedrun.com/api/v1/users/' + id).text)\n",
    "  if user_info.get('data'): # not sure why data key errors are happening here\n",
    "    username = user_info['data']['names']['international']\n",
    "  else:\n",
    "    return 'fail'\n",
    "\n",
    "  return username"
   ]
  },
  {
   "cell_type": "code",
   "execution_count": 25,
   "metadata": {},
   "outputs": [],
   "source": [
    "# create a function which loops through one page/request(to start) and adds the\n",
    "# time of all runs to the user's id in dictionary\n",
    "# note this method takes into account players who don't have src accounts and\n",
    "# thus do not have an id, however they are not accounted for in the final return\n",
    "\n",
    "ids_test = set()\n",
    "\n",
    "# takes\n",
    "def add_time():\n",
    "  runs = make_list()\n",
    "  player_times = {}\n",
    "  id_names = {}\n",
    "  final = {}\n",
    "  ids = set()\n",
    "\n",
    "  for i in range(len(runs)):\n",
    "    if runs[i]['players'][0].get('id'):\n",
    "      player = runs[i]['players'][0]['id']\n",
    "      #player = id_to_username(player)\n",
    "      ids.add(player)\n",
    "    else:\n",
    "      player = runs[i]['players'][0]['name']\n",
    "\n",
    "\n",
    "    time = runs[i]['times']['primary_t']\n",
    "\n",
    "    if player in player_times:\n",
    "      player_times[player] += time\n",
    "    else:\n",
    "      player_times[player] = time\n",
    "\n",
    "  # create a mapping of ids to usernames\n",
    "  for id in ids:\n",
    "    id_names[id] = id_to_username(id)\n",
    "\n",
    "  for id in id_names.keys() & player_times.keys():\n",
    "    final[id_names[id]] = player_times[id]\n",
    "\n",
    "  return final\n",
    "\n",
    "\n"
   ]
  },
  {
   "cell_type": "code",
   "execution_count": 26,
   "metadata": {},
   "outputs": [],
   "source": [
    "final_data = add_time()\n",
    "#list(map(id_to_username, ids_test))\n",
    "#ids_test"
   ]
  },
  {
   "cell_type": "code",
   "execution_count": 27,
   "metadata": {},
   "outputs": [
    {
     "data": {
      "text/plain": [
       "dopeZera          700351.00\n",
       "popesquidward     553996.81\n",
       "clairelynnd       427166.00\n",
       "HyrulianKnight    332996.00\n",
       "FFerraz1          310728.00\n",
       "                    ...    \n",
       "maosfx              2003.00\n",
       "JoshCalamari        1907.00\n",
       "kemXtrm             1780.00\n",
       "Marthur              759.00\n",
       "agdf_ydy             102.00\n",
       "Length: 296, dtype: float64"
      ]
     },
     "execution_count": 27,
     "metadata": {},
     "output_type": "execute_result"
    }
   ],
   "source": [
    "sorted = pd.Series(final_data).sort_values(ascending=False)\n",
    "sorted"
   ]
  },
  {
   "cell_type": "code",
   "execution_count": 28,
   "metadata": {},
   "outputs": [],
   "source": [
    "\n",
    "def convert2(seconds):\n",
    "  m, s = divmod(seconds, 60)\n",
    "  h, m = divmod(m, 60)\n",
    "\n",
    "  return str(int(h)) + ':' + str(int(m)) + ':' + str(int(s))"
   ]
  },
  {
   "cell_type": "code",
   "execution_count": 29,
   "metadata": {},
   "outputs": [
    {
     "data": {
      "text/plain": [
       "dopeZera             194:32:31\n",
       "popesquidward        153:53:16\n",
       "clairelynnd          118:39:26\n",
       "HyrulianKnight        92:29:56\n",
       "FFerraz1              86:18:48\n",
       "AntiLink              83:11:34\n",
       "TrulyNaN               82:6:42\n",
       "Zunar                 69:21:26\n",
       "VPP                   67:49:40\n",
       "SampleName_           65:35:16\n",
       "Türkenheimer          64:35:22\n",
       "ki9698                61:12:50\n",
       "MaxSen_G               60:52:5\n",
       "flanthis               54:6:34\n",
       "Marco                 52:33:39\n",
       "Eumeus14               47:0:25\n",
       "Zeepo                 46:17:28\n",
       "Severed_Speedruns     45:16:44\n",
       "mrjerkyjerky          44:28:18\n",
       "ADruck                40:42:29\n",
       "dtype: object"
      ]
     },
     "execution_count": 29,
     "metadata": {},
     "output_type": "execute_result"
    }
   ],
   "source": [
    "final = sorted.apply(convert2)\n",
    "\n",
    "final.head(20)"
   ]
  },
  {
   "cell_type": "code",
   "execution_count": 30,
   "metadata": {},
   "outputs": [
    {
     "data": {
      "text/plain": [
       "'14:56:42'"
      ]
     },
     "execution_count": 30,
     "metadata": {},
     "output_type": "execute_result"
    }
   ],
   "source": [
    "test = json.loads(requests.get('https://www.speedrun.com/api/v1/users/1xy90mjr').text)\n",
    "final['Your_Bro_Bri']\n"
   ]
  },
  {
   "cell_type": "code",
   "execution_count": 31,
   "metadata": {},
   "outputs": [
    {
     "ename": "KeyError",
     "evalue": "'TrevPerson'",
     "output_type": "error",
     "traceback": [
      "\u001b[1;31m---------------------------------------------------------------------------\u001b[0m",
      "\u001b[1;31mKeyError\u001b[0m                                  Traceback (most recent call last)",
      "File \u001b[1;32m~\\lib\\site-packages\\pandas\\core\\indexes\\base.py:3361\u001b[0m, in \u001b[0;36mIndex.get_loc\u001b[1;34m(self, key, method, tolerance)\u001b[0m\n\u001b[0;32m   3360\u001b[0m \u001b[38;5;28;01mtry\u001b[39;00m:\n\u001b[1;32m-> 3361\u001b[0m     \u001b[38;5;28;01mreturn\u001b[39;00m \u001b[38;5;28;43mself\u001b[39;49m\u001b[38;5;241;43m.\u001b[39;49m\u001b[43m_engine\u001b[49m\u001b[38;5;241;43m.\u001b[39;49m\u001b[43mget_loc\u001b[49m\u001b[43m(\u001b[49m\u001b[43mcasted_key\u001b[49m\u001b[43m)\u001b[49m\n\u001b[0;32m   3362\u001b[0m \u001b[38;5;28;01mexcept\u001b[39;00m \u001b[38;5;167;01mKeyError\u001b[39;00m \u001b[38;5;28;01mas\u001b[39;00m err:\n",
      "File \u001b[1;32m~\\lib\\site-packages\\pandas\\_libs\\index.pyx:76\u001b[0m, in \u001b[0;36mpandas._libs.index.IndexEngine.get_loc\u001b[1;34m()\u001b[0m\n",
      "File \u001b[1;32m~\\lib\\site-packages\\pandas\\_libs\\index.pyx:108\u001b[0m, in \u001b[0;36mpandas._libs.index.IndexEngine.get_loc\u001b[1;34m()\u001b[0m\n",
      "File \u001b[1;32mpandas\\_libs\\hashtable_class_helper.pxi:5198\u001b[0m, in \u001b[0;36mpandas._libs.hashtable.PyObjectHashTable.get_item\u001b[1;34m()\u001b[0m\n",
      "File \u001b[1;32mpandas\\_libs\\hashtable_class_helper.pxi:5206\u001b[0m, in \u001b[0;36mpandas._libs.hashtable.PyObjectHashTable.get_item\u001b[1;34m()\u001b[0m\n",
      "\u001b[1;31mKeyError\u001b[0m: 'TrevPerson'",
      "\nThe above exception was the direct cause of the following exception:\n",
      "\u001b[1;31mKeyError\u001b[0m                                  Traceback (most recent call last)",
      "Input \u001b[1;32mIn [31]\u001b[0m, in \u001b[0;36m<module>\u001b[1;34m\u001b[0m\n\u001b[1;32m----> 1\u001b[0m \u001b[43mfinal\u001b[49m\u001b[43m[\u001b[49m\u001b[38;5;124;43m'\u001b[39;49m\u001b[38;5;124;43mTrevPerson\u001b[39;49m\u001b[38;5;124;43m'\u001b[39;49m\u001b[43m]\u001b[49m\n",
      "File \u001b[1;32m~\\lib\\site-packages\\pandas\\core\\series.py:942\u001b[0m, in \u001b[0;36mSeries.__getitem__\u001b[1;34m(self, key)\u001b[0m\n\u001b[0;32m    939\u001b[0m     \u001b[38;5;28;01mreturn\u001b[39;00m \u001b[38;5;28mself\u001b[39m\u001b[38;5;241m.\u001b[39m_values[key]\n\u001b[0;32m    941\u001b[0m \u001b[38;5;28;01melif\u001b[39;00m key_is_scalar:\n\u001b[1;32m--> 942\u001b[0m     \u001b[38;5;28;01mreturn\u001b[39;00m \u001b[38;5;28;43mself\u001b[39;49m\u001b[38;5;241;43m.\u001b[39;49m\u001b[43m_get_value\u001b[49m\u001b[43m(\u001b[49m\u001b[43mkey\u001b[49m\u001b[43m)\u001b[49m\n\u001b[0;32m    944\u001b[0m \u001b[38;5;28;01mif\u001b[39;00m is_hashable(key):\n\u001b[0;32m    945\u001b[0m     \u001b[38;5;66;03m# Otherwise index.get_value will raise InvalidIndexError\u001b[39;00m\n\u001b[0;32m    946\u001b[0m     \u001b[38;5;28;01mtry\u001b[39;00m:\n\u001b[0;32m    947\u001b[0m         \u001b[38;5;66;03m# For labels that don't resolve as scalars like tuples and frozensets\u001b[39;00m\n",
      "File \u001b[1;32m~\\lib\\site-packages\\pandas\\core\\series.py:1051\u001b[0m, in \u001b[0;36mSeries._get_value\u001b[1;34m(self, label, takeable)\u001b[0m\n\u001b[0;32m   1048\u001b[0m     \u001b[38;5;28;01mreturn\u001b[39;00m \u001b[38;5;28mself\u001b[39m\u001b[38;5;241m.\u001b[39m_values[label]\n\u001b[0;32m   1050\u001b[0m \u001b[38;5;66;03m# Similar to Index.get_value, but we do not fall back to positional\u001b[39;00m\n\u001b[1;32m-> 1051\u001b[0m loc \u001b[38;5;241m=\u001b[39m \u001b[38;5;28;43mself\u001b[39;49m\u001b[38;5;241;43m.\u001b[39;49m\u001b[43mindex\u001b[49m\u001b[38;5;241;43m.\u001b[39;49m\u001b[43mget_loc\u001b[49m\u001b[43m(\u001b[49m\u001b[43mlabel\u001b[49m\u001b[43m)\u001b[49m\n\u001b[0;32m   1052\u001b[0m \u001b[38;5;28;01mreturn\u001b[39;00m \u001b[38;5;28mself\u001b[39m\u001b[38;5;241m.\u001b[39mindex\u001b[38;5;241m.\u001b[39m_get_values_for_loc(\u001b[38;5;28mself\u001b[39m, loc, label)\n",
      "File \u001b[1;32m~\\lib\\site-packages\\pandas\\core\\indexes\\base.py:3363\u001b[0m, in \u001b[0;36mIndex.get_loc\u001b[1;34m(self, key, method, tolerance)\u001b[0m\n\u001b[0;32m   3361\u001b[0m         \u001b[38;5;28;01mreturn\u001b[39;00m \u001b[38;5;28mself\u001b[39m\u001b[38;5;241m.\u001b[39m_engine\u001b[38;5;241m.\u001b[39mget_loc(casted_key)\n\u001b[0;32m   3362\u001b[0m     \u001b[38;5;28;01mexcept\u001b[39;00m \u001b[38;5;167;01mKeyError\u001b[39;00m \u001b[38;5;28;01mas\u001b[39;00m err:\n\u001b[1;32m-> 3363\u001b[0m         \u001b[38;5;28;01mraise\u001b[39;00m \u001b[38;5;167;01mKeyError\u001b[39;00m(key) \u001b[38;5;28;01mfrom\u001b[39;00m \u001b[38;5;21;01merr\u001b[39;00m\n\u001b[0;32m   3365\u001b[0m \u001b[38;5;28;01mif\u001b[39;00m is_scalar(key) \u001b[38;5;129;01mand\u001b[39;00m isna(key) \u001b[38;5;129;01mand\u001b[39;00m \u001b[38;5;129;01mnot\u001b[39;00m \u001b[38;5;28mself\u001b[39m\u001b[38;5;241m.\u001b[39mhasnans:\n\u001b[0;32m   3366\u001b[0m     \u001b[38;5;28;01mraise\u001b[39;00m \u001b[38;5;167;01mKeyError\u001b[39;00m(key)\n",
      "\u001b[1;31mKeyError\u001b[0m: 'TrevPerson'"
     ]
    }
   ],
   "source": [
    "final['TrevPerson']"
   ]
  },
  {
   "cell_type": "code",
   "execution_count": null,
   "metadata": {},
   "outputs": [],
   "source": []
  }
 ],
 "metadata": {
  "interpreter": {
   "hash": "71fdff05b81c8e1edf83c38635acb8fe674a3f8cdb8522ca6c810a60cf757fde"
  },
  "kernelspec": {
   "display_name": "Python 3.9.2 64-bit",
   "language": "python",
   "name": "python3"
  },
  "language_info": {
   "codemirror_mode": {
    "name": "ipython",
    "version": 3
   },
   "file_extension": ".py",
   "mimetype": "text/x-python",
   "name": "python",
   "nbconvert_exporter": "python",
   "pygments_lexer": "ipython3",
   "version": "3.9.2"
  },
  "orig_nbformat": 4
 },
 "nbformat": 4,
 "nbformat_minor": 2
}
